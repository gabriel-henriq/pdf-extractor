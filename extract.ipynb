{
 "cells": [
  {
   "cell_type": "code",
   "execution_count": 1,
   "id": "1ae56daf-6c3f-49a0-b674-b2f4cd4200ec",
   "metadata": {},
   "outputs": [],
   "source": [
    "import re\n",
    "import pdfplumber\n",
    "import pandas as pd\n",
    "from collections import namedtuple"
   ]
  },
  {
   "cell_type": "code",
   "execution_count": 2,
   "id": "f83cd3bc-8d69-4033-abd6-7d887b88120f",
   "metadata": {},
   "outputs": [],
   "source": [
    "Ficha = namedtuple('Ficha', 'eSocial empregado dataNascimento localNascimento estadoCivil pai mae ctps serie dataExpedicao ufCTPS cpf cnh categoria categoriaReservista cor sexo escolaridade dataContratacao salario mes jornada intervalo pis cargo dataSaida residencia')"
   ]
  },
  {
   "cell_type": "code",
   "execution_count": 3,
   "id": "d667a57f-0b10-451f-bc46-e133953f308c",
   "metadata": {},
   "outputs": [],
   "source": [
    "file = './src...'\n"
   ]
  },
  {
   "cell_type": "code",
   "execution_count": 4,
   "id": "ff7a89c4-a3f3-4330-8f08-1668a337a66e",
   "metadata": {},
   "outputs": [],
   "source": [
    "eSocial_re = re.compile(r'^(\\d.{0,2}) ')"
   ]
  },
  {
   "cell_type": "code",
   "execution_count": 5,
   "id": "a8863e33-1c50-4830-bb8f-047917aff423",
   "metadata": {},
   "outputs": [],
   "source": [
    "def getEsocial():\n",
    "    for line in text.split('\\n'):\n",
    "        line = eSocial_re.search(line)\n",
    "        if line:\n",
    "            eSocial = line.group(1)\n",
    "            return eSocial\n",
    "        "
   ]
  },
  {
   "cell_type": "code",
   "execution_count": 6,
   "id": "08df6f85-cfce-4bc2-b938-06efd6378958",
   "metadata": {},
   "outputs": [],
   "source": [
    "def getEmpregado():\n",
    "    lineNumber = 0;\n",
    "    maxLenght = re.compile(r'\\w{0,50}')\n",
    "    for line in text.split('\\n'):\n",
    "        lineNumber = lineNumber + 1\n",
    "        if lineNumber == 9:\n",
    "            maxLenght.match(line)\n",
    "            empregado = line\n",
    "            return empregado"
   ]
  },
  {
   "cell_type": "code",
   "execution_count": 7,
   "id": "94de1ef0-cbb3-4a63-afb6-bbb6e1d35318",
   "metadata": {},
   "outputs": [],
   "source": [
    "def getResidencia():\n",
    "    lineNumber = 0;\n",
    "    for line in text.split('\\n'):\n",
    "        lineNumber = lineNumber + 1\n",
    "        if lineNumber == 11:\n",
    "            residencia = line\n",
    "            return residencia\n",
    "        if lineNumber == 12 and line != 'Data de nascimento Local do nascimento País da nacionalidade Estado civil':\n",
    "            residencia = residencia + line\n",
    "            return residencia\n",
    "   "
   ]
  },
  {
   "cell_type": "code",
   "execution_count": 8,
   "id": "c073da62-10ba-43f9-a0f6-a3b4de8b8387",
   "metadata": {},
   "outputs": [],
   "source": [
    "data_nascimento_re = re.compile(r'(\\d+/\\d+/\\d+) (.* - \\w{2})\\sBRASIL\\s(.*)')"
   ]
  },
  {
   "cell_type": "code",
   "execution_count": 9,
   "id": "7a0e01b2-0488-4bd1-ad52-8c853a69fd44",
   "metadata": {},
   "outputs": [],
   "source": [
    "def getDataNascimento():\n",
    "    for line in text.split('\\n'):\n",
    "        line = data_nascimento_re.match(line)\n",
    "        if line:\n",
    "            dataNascimento = line.group(1)\n",
    "            return dataNascimento"
   ]
  },
  {
   "cell_type": "code",
   "execution_count": 10,
   "id": "c06d6c68-6011-44bc-9832-64d345702c3e",
   "metadata": {},
   "outputs": [],
   "source": [
    "def getLocalNascimento():\n",
    "    for line in text.split('\\n'):\n",
    "        line = data_nascimento_re.match(line)\n",
    "        if line:\n",
    "            localNascimento = line.group(2)\n",
    "            return localNascimento"
   ]
  },
  {
   "cell_type": "code",
   "execution_count": 11,
   "id": "cccf72a0-ecff-4d87-94d4-8a2be50789b0",
   "metadata": {},
   "outputs": [],
   "source": [
    "def getEstadoCivil():\n",
    "    for line in text.split('\\n'):\n",
    "        line = data_nascimento_re.match(line)\n",
    "        if line:\n",
    "            estadoCivil = line.group(3)\n",
    "            return estadoCivil "
   ]
  },
  {
   "cell_type": "code",
   "execution_count": 12,
   "id": "676b0495-7ef7-4544-880d-6dd583601a52",
   "metadata": {},
   "outputs": [],
   "source": [
    "def getPai():\n",
    "    maxLength = re.compile('\\w{0,40}')\n",
    "    lineNumber = 0\n",
    "    for line in text.split('\\n'):\n",
    "        lineNumber = lineNumber + 1\n",
    "        if lineNumber == 15 and line != 'Pai':\n",
    "            \n",
    "            pai = line\n",
    "            return pai\n",
    "        elif lineNumber == 16 and line != 'FILIAÇÃO':\n",
    "            pai = line\n",
    "            return pai"
   ]
  },
  {
   "cell_type": "code",
   "execution_count": 13,
   "id": "c6ddfa5e-1b9e-4465-91c2-4644638bfba7",
   "metadata": {},
   "outputs": [],
   "source": [
    "def getMae():\n",
    "    lineNumber = 0\n",
    "    for line in text.split('\\n'):\n",
    "        lineNumber = lineNumber + 1\n",
    "        if lineNumber == 18 and line != 'Mãe':\n",
    "            mae = line\n",
    "            return mae\n",
    "        elif lineNumber == 19 and line != 'Cédula de Identidade Data de emissão Órgão/UF emissor Título Eleitoral Zona Seção Inscr. Órgão de Classe':\n",
    "            mae = line\n",
    "            return mae"
   ]
  },
  {
   "cell_type": "code",
   "execution_count": 14,
   "id": "d9d13cd1-a2dd-4e7f-a44a-30370d0e20d6",
   "metadata": {},
   "outputs": [],
   "source": [
    "cpf_re = re.compile(r'(\\d{0,3}\\-\\d{0,3}|\\d{0,12})[\\s]*(\\s|\\d{0,6}|\\d{0,3}\\-\\d{0,2})[\\s]*(\\s|\\d{2}\\/\\d{2}\\/\\d{4})[\\s]*(\\w{2}|\\s)[\\s]*(\\d{3}.\\d{3}.\\d{3}\\-\\d{2})[\\s]*(\\d{0,12}|\\s)[\\s]*(\\w{0,2}|\\s)')"
   ]
  },
  {
   "cell_type": "code",
   "execution_count": 15,
   "id": "f05df1a1-27a9-4f88-9b8c-c5b2bc9fd4a0",
   "metadata": {},
   "outputs": [],
   "source": [
    "def getCtps(): \n",
    "    for line in text.split('\\n'):\n",
    "        line = cpf_re.match(line)\n",
    "\n",
    "        if line:\n",
    "            ctps = line.group(1)\n",
    "            return ctps"
   ]
  },
  {
   "cell_type": "code",
   "execution_count": 16,
   "id": "97b9acd4-a4ef-44c6-8d21-16b7f0b0fe9e",
   "metadata": {},
   "outputs": [],
   "source": [
    "def getSerie(): \n",
    "    for line in text.split('\\n'):\n",
    "        line = cpf_re.match(line)\n",
    "\n",
    "        if line:\n",
    "            serie = line.group(2)\n",
    "            return serie"
   ]
  },
  {
   "cell_type": "code",
   "execution_count": 17,
   "id": "084dcedc-3bd3-40d4-89c4-090ac58d43cf",
   "metadata": {},
   "outputs": [],
   "source": [
    "def getDataExpedicao(): \n",
    "    for line in text.split('\\n'):\n",
    "        line = cpf_re.match(line)\n",
    "\n",
    "        if line:\n",
    "            dataExpedicao = line.group(3)\n",
    "            return dataExpedicao"
   ]
  },
  {
   "cell_type": "code",
   "execution_count": 18,
   "id": "64975975-7629-42fd-882b-c6d6c43ba89d",
   "metadata": {},
   "outputs": [],
   "source": [
    "def getUfCtps(): \n",
    "    for line in text.split('\\n'):\n",
    "        line = cpf_re.match(line)\n",
    "\n",
    "        if line:\n",
    "\n",
    "            ufCTPS = line.group(4)\n",
    "            return ufCTPS"
   ]
  },
  {
   "cell_type": "code",
   "execution_count": 19,
   "id": "27cae16b-dd71-449b-9ec1-1e8343ad2aab",
   "metadata": {},
   "outputs": [],
   "source": [
    "def getCpf(): \n",
    "    for line in text.split('\\n'):\n",
    "        line = cpf_re.match(line)\n",
    "\n",
    "        if line:\n",
    "\n",
    "            cpf = line.group(5)\n",
    "            return cpf"
   ]
  },
  {
   "cell_type": "code",
   "execution_count": 20,
   "id": "171a6b6d-ebdf-40b4-b736-833a07da2e64",
   "metadata": {},
   "outputs": [],
   "source": [
    "def getCnh(): \n",
    "    for line in text.split('\\n'):\n",
    "        line = cpf_re.match(line)\n",
    "\n",
    "        if line:\n",
    "\n",
    "            cnh = line.group(6)\n",
    "            return cnh"
   ]
  },
  {
   "cell_type": "code",
   "execution_count": 21,
   "id": "433dd604-92b1-44e0-ac22-402fd97233b1",
   "metadata": {},
   "outputs": [],
   "source": [
    "def getCategoria(): \n",
    "    for line in text.split('\\n'):\n",
    "        line = cpf_re.match(line)\n",
    "\n",
    "        if line:\n",
    "\n",
    "            categoria = line.group(7)\n",
    "            return categoria"
   ]
  },
  {
   "cell_type": "code",
   "execution_count": null,
   "id": "81945598-87c1-46ed-a98d-76480ec8d535",
   "metadata": {},
   "outputs": [],
   "source": []
  },
  {
   "cell_type": "code",
   "execution_count": 22,
   "id": "c31f92d7-203a-47f3-9052-bf97481fe935",
   "metadata": {},
   "outputs": [],
   "source": [
    "genero_re = re.compile(r'([\\d{0,16}]*)[\\s]*([\\S|..\\s]*)(Não\\sInformada|Branca|Negra|Parda)\\s(Masculino|Feminino)\\s(.*)')"
   ]
  },
  {
   "cell_type": "code",
   "execution_count": 23,
   "id": "e0e2af2e-0d1a-4f1a-985f-6dcc6a757fd2",
   "metadata": {},
   "outputs": [],
   "source": [
    "def getGenero():\n",
    "    for line in text.split('\\n'):\n",
    "\n",
    "        line = genero_re.match(line)\n",
    "        if line:\n",
    "            sexo = line.group(4)\n",
    "            return sexo  "
   ]
  },
  {
   "cell_type": "code",
   "execution_count": 24,
   "id": "7282a318-7e8e-456b-8aaa-76ac272fe93d",
   "metadata": {},
   "outputs": [],
   "source": [
    "def getCategoriaReservista():\n",
    "    for line in text.split('\\n'):\n",
    "\n",
    "        line = genero_re.match(line)\n",
    "        if line:\n",
    "            categoriaReservista = line.group(1)\n",
    "            return categoriaReservista"
   ]
  },
  {
   "cell_type": "code",
   "execution_count": 25,
   "id": "d7eb6658-10d6-4c81-9a15-cbcfb61ce3f3",
   "metadata": {},
   "outputs": [],
   "source": [
    "def getCategoria():\n",
    "    for line in text.split('\\n'):\n",
    "\n",
    "        line = genero_re.match(line)\n",
    "        if line:\n",
    "            categoria = line.group(2)\n",
    "            return categoria"
   ]
  },
  {
   "cell_type": "code",
   "execution_count": 26,
   "id": "5ca9992f-1417-44fc-a654-4862e1805cf6",
   "metadata": {},
   "outputs": [],
   "source": [
    "def getEscolaridade():\n",
    "    for line in text.split('\\n'):\n",
    "\n",
    "        line = genero_re.match(line)\n",
    "        if line:\n",
    "            escolaridade = line.group(5)\n",
    "            return escolaridade"
   ]
  },
  {
   "cell_type": "code",
   "execution_count": 27,
   "id": "91430d47-c130-4ee7-b5df-9327070d30ce",
   "metadata": {},
   "outputs": [],
   "source": [
    "def getCor():\n",
    "    for line in text.split('\\n'):\n",
    "\n",
    "        line = genero_re.match(line)\n",
    "        if line:\n",
    "            cor = line.group(3)\n",
    "            return cor"
   ]
  },
  {
   "cell_type": "code",
   "execution_count": 28,
   "id": "4660a754-47e3-4b7e-b062-d08a3db51721",
   "metadata": {},
   "outputs": [],
   "source": [
    "carga_re = re.compile(r'(\\d{2}\\/\\d{2}\\/\\d{4})\\s(R\\$\\s\\d{0,1}.\\d{0,3}\\,\\d{2})\\s(Mês)\\s(das\\s\\d{2}\\:\\d{2}\\sas\\s\\d{2}\\:\\d{2})\\s(das\\s\\d{2}\\:\\d{2}\\sas\\s\\d{2}\\:\\d{2})')"
   ]
  },
  {
   "cell_type": "code",
   "execution_count": 29,
   "id": "c761fec5-4fd2-44d9-a1ff-6c2f2bce52dc",
   "metadata": {},
   "outputs": [],
   "source": [
    "def getSalario():\n",
    "    for line in text.split('\\n'):\n",
    "        line = carga_re.match(line)\n",
    "        if line:\n",
    "            salario = line.group(2)\n",
    "            return salario"
   ]
  },
  {
   "cell_type": "code",
   "execution_count": 30,
   "id": "f6a5f98c-d2b1-40b0-a954-96110c1d4ee5",
   "metadata": {},
   "outputs": [],
   "source": [
    "def getContratacao():\n",
    "    for line in text.split('\\n'):\n",
    "        line = carga_re.match(line)\n",
    "        if line:\n",
    "            dataContratacao = line.group(1)\n",
    "            return dataContratacao"
   ]
  },
  {
   "cell_type": "code",
   "execution_count": 31,
   "id": "54b2b76b-b984-42cd-bfc3-0ffa70e1f11e",
   "metadata": {},
   "outputs": [],
   "source": [
    "def getMes():\n",
    "    for line in text.split('\\n'):\n",
    "        line = carga_re.match(line)\n",
    "        if line:\n",
    "            mes = line.group(3)\n",
    "            return mes"
   ]
  },
  {
   "cell_type": "code",
   "execution_count": 32,
   "id": "db927941-8630-4dd7-b341-5cd26e038297",
   "metadata": {},
   "outputs": [],
   "source": [
    "def getJornada():\n",
    "    for line in text.split('\\n'):\n",
    "        line = carga_re.match(line)\n",
    "        if line:\n",
    "            jornada = line.group(4)\n",
    "            return jornada"
   ]
  },
  {
   "cell_type": "code",
   "execution_count": 33,
   "id": "a50f2f7b-124f-4bcf-99cc-df5449dfb77b",
   "metadata": {},
   "outputs": [],
   "source": [
    "def getIntervalo():\n",
    "    for line in text.split('\\n'):\n",
    "        line = carga_re.match(line)\n",
    "        if line:\n",
    "            intervalo = line.group(5)\n",
    "            return intervalo"
   ]
  },
  {
   "cell_type": "code",
   "execution_count": 34,
   "id": "02b01571-189d-496f-ac4b-d4089c446d2a",
   "metadata": {},
   "outputs": [],
   "source": [
    "def getCargo():\n",
    "    lineNumber = 0\n",
    "    for line in text.split('\\n'):\n",
    "        lineNumber = lineNumber + 1\n",
    "        if lineNumber == 28 and line != 'Cargo Função C.B.O.':\n",
    "            cargo = line\n",
    "            return cargo\n",
    "        elif lineNumber == 29 and line != 'Data de Admissão Salário Por Horário de Trabalho Horário de Intervalo':\n",
    "                cargo = line\n",
    "                return cargo"
   ]
  },
  {
   "cell_type": "code",
   "execution_count": 35,
   "id": "a482be52-e7f4-4cc0-b612-e8853193de81",
   "metadata": {},
   "outputs": [],
   "source": [
    "saida_re = re.compile(r'Data da saída:\\s(\\d{2}\\/\\d{2}\\/\\d{4})')"
   ]
  },
  {
   "cell_type": "code",
   "execution_count": 36,
   "id": "e5114d9d-8cac-4df5-a3ca-97259a96fd8b",
   "metadata": {},
   "outputs": [],
   "source": [
    "def getSaida():\n",
    "    for line in text.split('\\n'):\n",
    "        line = saida_re.match(line)\n",
    "        if line:\n",
    "            dataSaida = line.group(1)\n",
    "            return dataSaida"
   ]
  },
  {
   "cell_type": "code",
   "execution_count": 37,
   "id": "a08161f8-f015-4a13-926d-f6147b5ac272",
   "metadata": {},
   "outputs": [],
   "source": [
    "pis_re = re.compile(r'[\\d{2}\\/\\d{2}\\/\\d{4} ]?(\\d{3}\\.\\d{5}\\.\\d{2}\\-\\d{1})')"
   ]
  },
  {
   "cell_type": "code",
   "execution_count": 38,
   "id": "b0470fb1-35d8-4b47-a940-fe8a673fa026",
   "metadata": {},
   "outputs": [],
   "source": [
    "def getPIS():\n",
    "    for line in text.split('\\n'):\n",
    "        line = pis_re.search(line)\n",
    "        if line:\n",
    "            pis = line.group(1)\n",
    "            return pis"
   ]
  },
  {
   "cell_type": "code",
   "execution_count": 39,
   "id": "128fb5bd-339f-4601-8a57-cc62d021f71a",
   "metadata": {},
   "outputs": [],
   "source": [
    "line_items = []\n",
    "with pdfplumber.open(file) as pdf:\n",
    "    for i in range(0,350,2):\n",
    "        pages = pdf.pages[i]\n",
    "        text = pages.extract_text()\n",
    "        text\n",
    "        eSocial = ''\n",
    "        empregado = ''\n",
    "        dataNascimento = ''\n",
    "        localNascimento = ''\n",
    "        estadoCivil = ''\n",
    "        pai = ''\n",
    "        mae = ''\n",
    "        ctps = ''\n",
    "        serie = ''\n",
    "        dataExpedicao = ''\n",
    "        ufCTPS = ''\n",
    "        cpf = ''\n",
    "        cnh = ''\n",
    "        categoria = ''\n",
    "        categoriaReservista = ''\n",
    "        cor = ''\n",
    "        sexo = ''\n",
    "        escolaridade = ''\n",
    "        dataContratacao = ''\n",
    "        salario = ''\n",
    "        mes = ''\n",
    "        jornada = ''\n",
    "        intervalo = ''\n",
    "        pis = ''\n",
    "        cargo = ''\n",
    "        dataSaida = ''\n",
    "        residencia = ''\n",
    "        eSocial = getEsocial()\n",
    "        empregado = getEmpregado()\n",
    "        dataNascimento = getDataNascimento()\n",
    "        localNascimento = getLocalNascimento()\n",
    "        estadoCivil = getEstadoCivil()\n",
    "        pai = getPai()\n",
    "        mae = getMae()\n",
    "        ctps = getCtps()\n",
    "        serie = getSerie()\n",
    "        dataExpedicao = getDataExpedicao()\n",
    "        ufCTPS = getUfCtps()\n",
    "        cpf = getCpf()\n",
    "        cnh = getCnh()\n",
    "        pis = getPIS()\n",
    "        categoria = getCategoria()\n",
    "        categoriaReservista = getCategoriaReservista()\n",
    "        cor = getCor()\n",
    "        sexo = getGenero()\n",
    "        escolaridade = getEscolaridade()\n",
    "        dataContratacao = getContratacao()\n",
    "        salario = getSalario()\n",
    "        mes = getMes()\n",
    "        jornada = getJornada()\n",
    "        intervalo = getIntervalo()\n",
    "        cargo = getCargo()\n",
    "        dataSaida = getSaida()\n",
    "        residencia = getResidencia()\n",
    "        line_items.append(Ficha(eSocial, empregado, dataNascimento, localNascimento, estadoCivil, pai, mae, ctps, serie, dataExpedicao, ufCTPS, cpf, cnh, categoria, categoriaReservista, cor, sexo, escolaridade, dataContratacao, salario, mes, jornada, intervalo, pis, cargo, dataSaida, residencia))\n",
    "        \n",
    "            \n",
    "            \n",
    "            \n",
    "            \n",
    "            \n",
    "            \n",
    "            "
   ]
  },
  {
   "cell_type": "code",
   "execution_count": 40,
   "id": "c6a2e62a-dd9b-48ae-a9fb-bccd0f1d4b5d",
   "metadata": {},
   "outputs": [],
   "source": [
    "df = pd.DataFrame(line_items)"
   ]
  },
  {
   "cell_type": "code",
   "execution_count": null,
   "id": "61e2ca3d-5101-4fdb-b1ae-32cc4e9e8e36",
   "metadata": {},
   "outputs": [],
   "source": [
    "df.head()"
   ]
  },
  {
   "cell_type": "code",
   "execution_count": 42,
   "id": "bd94134d-fe14-499b-ab17-74b6041443b5",
   "metadata": {},
   "outputs": [],
   "source": [
    "df.to_csv('inv_lines_2.csv')"
   ]
  },
  {
   "cell_type": "code",
   "execution_count": null,
   "id": "8e142f2c-3219-4ad0-896e-69192e584f7e",
   "metadata": {},
   "outputs": [],
   "source": []
  },
  {
   "cell_type": "code",
   "execution_count": null,
   "id": "cfabd6f4-2bef-4713-83bd-c46e42865739",
   "metadata": {},
   "outputs": [],
   "source": []
  }
 ],
 "metadata": {
  "kernelspec": {
   "display_name": "Python 3",
   "language": "python",
   "name": "python3"
  },
  "language_info": {
   "codemirror_mode": {
    "name": "ipython",
    "version": 3
   },
   "file_extension": ".py",
   "mimetype": "text/x-python",
   "name": "python",
   "nbconvert_exporter": "python",
   "pygments_lexer": "ipython3",
   "version": "3.8.8"
  },
  "toc-showcode": false
 },
 "nbformat": 4,
 "nbformat_minor": 5
}
